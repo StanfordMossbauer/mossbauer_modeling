{
 "cells": [
  {
   "cell_type": "code",
   "execution_count": 4,
   "id": "1287f537",
   "metadata": {},
   "outputs": [],
   "source": [
    "from dataclasses import dataclass\n",
    "import numpy as np\n",
    "from scipy.integrate import quad, quad_vec\n",
    "from scipy.special import jv\n",
    "import xraydb \n",
    "from datetime import datetime\n",
    "import matplotlib.pyplot as plt\n",
    "\n",
    "############################################     CONSTANTS   #########################################################\n",
    "\n",
    "# Fundamental constants\n",
    "c = 3e8  # Speed of light in m/s\n",
    "kB = 1.38e-23  # Boltzmann constant in J/K\n",
    "e = 1.6e-19  # Elementary charge in C\n",
    "Na = 6.022e23  # Avogadro's number\n",
    "\n",
    "\n",
    "############################################     FUNCTIONS   #########################################################\n",
    "\n",
    "\n",
    "def calculate_sigma0(E0, Ie, Ig, alpha):\n",
    "    return 2.446e-15 / (E0 / 1e3) ** 2 * (2 * Ie + 1) / (2 * Ig + 1) * 1 / (1 + alpha)\n",
    "\n",
    "def calculate_mu_e(element, energy):\n",
    "    return xraydb.mu_elam(element, energy)\n",
    "\n",
    "def calculate_recoilless_fraction(T, Td, E0, M):\n",
    "    integral = quad(lambda x: x / (np.exp(x) - 1), 0, Td / T)[0]\n",
    "    return np.exp(-(3 * (E0 * e) ** 2) / (kB * Td * M * c ** 2) * (1 / 4 + (T / Td) ** 2 * integral))\n",
    "\n",
    "def get_current_activity(half_life_days, activity, date, nowdate=None):\n",
    "    if nowdate is None:\n",
    "        nowdate = datetime.now()\n",
    "    else:\n",
    "        nowdate = datetime.strptime(nowdate, '%Y%m%d')\n",
    "    tdiff_seconds = (nowdate - datetime.strptime(date, '%Y%m%d')).total_seconds()\n",
    "    return activity*((0.5)**(tdiff_seconds/(3600*24)/half_life_days))\n",
    "\n",
    "\n",
    "def calculate_photon_rate(activity_Ci,relative_intensity):\n",
    "    return 3.7e10 * activity_Ci * relative_intensity\n",
    "\n",
    "def calculate_thickness_gcm2(thickness_m, rho, abundance):\n",
    "    return thickness_m * rho/10 * abundance\n",
    "\n",
    "def _lorentzian_s(x, x0, gamma):\n",
    "    return gamma/(2*np.pi)/( ((x-x0))**2 + (gamma/2)**2)\n",
    "\n",
    "def _lorentzian_a(x, x0, gamma):\n",
    "    return (gamma/2)**2/( ((x-x0))**2 + (gamma/2)**2)\n",
    "    \n",
    "\n",
    "\n",
    "\n",
    "\n",
    "############################################     SOURCE CLASSES   #########################################################\n",
    "\n",
    "\n",
    "@dataclass\n",
    "class CobaltRhodium:\n",
    "    T: float = 292\n",
    "    Td: float = 510 #Rhodium\n",
    "    E0: float = 14.4e3\n",
    "    Gamma_ev = 4.55e-9 #eV\n",
    "    Eres = [0]\n",
    "    split_ratio = [1] \n",
    "\n",
    "    activity_Ci= 50e-3\n",
    "    production_date = '20250112'\n",
    "    date = None #means now\n",
    "    half_life = 272\n",
    "    mossbauer_relative_intensity = 0.0916\n",
    "    M =  57e-3 / Na\n",
    "    element = 'Fe'\n",
    "    alpha = 8.17\n",
    "    \n",
    "    def update_params(self):\n",
    "        \n",
    "        self.Gamma = self.Gamma_ev*c/self.E0*1000\n",
    "        self.current_activity_Ci = get_current_activity(self.half_life, self.activity_Ci, self.production_date,self.date)       \n",
    "        self.mossbauer_photon_rate = calculate_photon_rate(self.current_activity_Ci, self.mossbauer_relative_intensity)       \n",
    "        self.fs = calculate_recoilless_fraction(self.T, self.Td, self.E0, self.M)       \n",
    "        self.transition_coefficients = np.asarray(self.split_ratio, dtype=float)/np.sum(self.split_ratio)\n",
    "    \n",
    "\n",
    "\n",
    "@dataclass\n",
    "class CobaltFe:\n",
    "    T = 292\n",
    "    Td = 470 #Fe\n",
    "    E0 = 14.4e3\n",
    "    Gamma_ev = 4.55e-9 #eV\n",
    "    Eres = [-5,-3,-1,1,3,5]\n",
    "    split_ratio = [3,2,1,1,2,3] \n",
    "   \n",
    "    activity_Ci= 50e-3\n",
    "    production_date = '20250112'\n",
    "    date = None #means now\n",
    "    half_life = 272\n",
    "    mossbauer_relative_intensity = 0.0916\n",
    "    M =  57e-3 / Na\n",
    "    element = 'Fe'\n",
    "    alpha = 8.17\n",
    "    \n",
    "    def update_params(self):\n",
    "        \n",
    "        self.Gamma = self.Gamma_ev*c/self.E0*1000\n",
    "        self.current_activity_Ci = get_current_activity(self.half_life, self.activity_Ci, self.production_date,self.date)       \n",
    "        self.mossbauer_photon_rate = calculate_photon_rate(self.current_activity_Ci, self.mossbauer_relative_intensity)       \n",
    "        self.fs = calculate_recoilless_fraction(self.T, self.Td, self.E0, self.M)       \n",
    "        self.transition_coefficients = np.asarray(self.split_ratio, dtype=float)/np.sum(self.split_ratio)\n",
    "\n",
    "\n",
    "    \n",
    "########################################          ABSORBER CLASSES      ###############################################\n",
    "\n",
    "@dataclass\n",
    "class alphaFe:\n",
    "    thickness_m = 25e-6 #m\n",
    "    T = 292\n",
    "    Td = 470\n",
    "    E0 = 14.4e3\n",
    "    Gamma_ev = 4.55e-9 #eV\n",
    "    Eres = [-5,-3,-1,1,3,5]\n",
    "    split_ratio = [3,2,1,1,2,3]\n",
    "    abundance = 0.0212\n",
    "    M = 57e-3 / Na\n",
    "    nM = Na / 57\n",
    "    rho = 7.87e3\n",
    "    element = 'Fe'\n",
    "    alpha = 8.17\n",
    "    \n",
    "    def update_params(self):\n",
    "        \n",
    "        self.Gamma = self.Gamma_ev*c/self.E0*1000\n",
    "        self.mu_e = calculate_mu_e(self.element, self.E0)\n",
    "        self.fa = calculate_recoilless_fraction(self.T, self.Td, self.E0, self.M)\n",
    "        self.transition_coefficients = np.asarray(self.split_ratio, dtype=float)/np.sum(self.split_ratio)\n",
    "        self.sigma0 = calculate_sigma0(self.E0, 3/2, 1/2, self.alpha)   \n",
    "        self.thickness_gcm2 = calculate_thickness_gcm2(self.thickness_m, self.rho, 1)\n",
    "        self.thickness_gcm2_Fe57 = calculate_thickness_gcm2(self.thickness_m, self.rho, self.abundance)\n",
    "        self.thickness_normalized = self.fa * self.nM * self.sigma0 * self.thickness_gcm2_Fe57\n",
    "    \n",
    "\n",
    "\n",
    "class KFeCy:\n",
    "    thickness_gcm2_Fe = 6e-3 #g/cm2\n",
    "    E0 = 14.4e3 #eV\n",
    "    Gamma_ev = 4.55e-9 #eV\n",
    "    Eres = [0] #mm/s\n",
    "    split_ratio = [1]\n",
    "    abundance = 0.0212\n",
    "    M =  57e-3 / Na\n",
    "    nM = Na / 57\n",
    "    rho = 7.87e3\n",
    "    elements = {  # K4[Fe(CN)6]·3H2O\n",
    "                'Fe': 1,\n",
    "                'K': 4,\n",
    "                'C': 6,\n",
    "                'N': 6,\n",
    "                'H': 6,\n",
    "                'O': 3,\n",
    "            }\n",
    "    alpha = 8.17\n",
    "    sigma0 = 2.1e-18 # https://journals.aps.org/prb/pdf/10.1103/PhysRevB.4.2915\n",
    "    fa =0.311 # https://www.sciencedirect.com/science/article/abs/pii/0029554X81900987\n",
    "    \n",
    "    def update_params(self):\n",
    "\n",
    "        self.Gamma = self.Gamma_ev*c/self.E0*1000       \n",
    "        self.transition_coefficients = np.asarray(self.split_ratio, dtype=float)/np.sum(self.split_ratio)\n",
    "        self.thickness_gcm2_Fe57 = self.thickness_gcm2_Fe * self.abundance\n",
    "        self.thickness_normalized = self.fa * self.nM * self.sigma0 * self.thickness_gcm2_Fe57                       \n",
    "        self.mass_sum = np.sum([val * xraydb.atomic_mass(element) for element, val in self.elements.items()])\n",
    "        self.mu_e = np.sum([xraydb.mu_elam(element, self.E0) * multiplicity *xraydb.atomic_mass(element) / self.mass_sum \\\n",
    "                            for element, multiplicity in self.elements.items()])\n",
    "        self.thickness_gcm2 = self.thickness_gcm2_Fe / (self.elements['Fe'] * xraydb.atomic_mass('Fe')) * self.mass_sum \n",
    "        \n",
    "    \n",
    "        \n",
    "    \n",
    "###########################################      MOSSBAUER    ######################################################\n",
    "\n",
    "c=3e8\n",
    "\n",
    "class Mossbauer:\n",
    "    \n",
    "    def __init__(self, source, absorber):\n",
    "    \n",
    "        self.source = source\n",
    "        self.absorber = absorber\n",
    "\n",
    "    def source_specrtrum(self, E, v):\n",
    "        spectrum = 0\n",
    "        for coef, Eres in zip(self.source.transition_coefficients, self.source.Eres):\n",
    "                spectrum += coef *_lorentzian_s(\n",
    "                    E,\n",
    "                    Eres - v,\n",
    "                    self.source.Gamma\n",
    "                )\n",
    "        \n",
    "        return  self.source.mossbauer_photon_rate * self.source.fs  * spectrum\n",
    "    \n",
    "    def cross_section(self, E):\n",
    "        spectrum = 0\n",
    "        for coef, Eres in zip(self.absorber.transition_coefficients, self.absorber.Eres):\n",
    "            spectrum += coef *_lorentzian_a(\n",
    "                E,\n",
    "                Eres,\n",
    "                self.absorber.Gamma\n",
    "            )\n",
    "            \n",
    "        return self.absorber.sigma0 * spectrum\n",
    "    \n",
    "    def non_resonant_attenuation(self):\n",
    "        return np.exp(-self.absorber.mu_e * self.absorber.thickness_gcm2) \n",
    "    \n",
    "    def resonant_transmission_fraction(self, E, v):\n",
    "        \n",
    "        res = ( self.source_specrtrum(E, v) \n",
    "                * np.exp(-self.cross_section(E) * self.absorber.fa * self.absorber.nM * self.absorber.thickness_gcm2_Fe57 )\n",
    "                * self.non_resonant_attenuation()\n",
    "              )\n",
    "        return res\n",
    "                         \n",
    "    def reosnant_transmission_rate(self, v):\n",
    "        res = quad_vec(lambda E: self.resonant_transmission_fraction(E,v), -np.inf, np.inf)[0]\n",
    "        return res\n",
    "    \n",
    "    def nonresonant_transmission_rate(self):\n",
    "        return self.source.mossbauer_photon_rate * (1 - self.source.fs) * self.non_resonant_attenuation()\n",
    "\n",
    "    def total_transmission_rate1(self, v):\n",
    "        return self.nonresonant_transmission_rate() + self.reosnant_transmission_rate(v)\n",
    " \n",
    "    \n",
    "    def epsilon(self,t):\n",
    "        return 1-np.exp(-t/2)*jv(0,1j*t/2).real\n",
    "\n"
   ]
  },
  {
   "cell_type": "code",
   "execution_count": 5,
   "id": "80379a71",
   "metadata": {
    "scrolled": true
   },
   "outputs": [
    {
     "data": {
      "text/plain": [
       "(0.27465570257793753,\n",
       " 0.2722116034187057,\n",
       " 151.6549451608593,\n",
       " 0.4123607978830409)"
      ]
     },
     "execution_count": 5,
     "metadata": {},
     "output_type": "execute_result"
    },
    {
     "data": {
      "image/png": "[encoded data removed]",
      "text/plain": [
       "<Figure size 432x288 with 1 Axes>"
      ]
     },
     "metadata": {
      "needs_background": "light"
     },
     "output_type": "display_data"
    }
   ],
   "source": [
    "source = CobaltRhodium()\n",
    "source.update_params()\n",
    "absorber = KFeCy()\n",
    "absorber.update_params()\n",
    "\n",
    "moss = Mossbauer(source, absorber)\n",
    "\n",
    "v = np.linspace(-10,10,1000)\n",
    "t = moss.total_transmission_rate1(v)\n",
    "norm = moss.source.mossbauer_photon_rate\n",
    "\n",
    "\n",
    "plt.plot(v, t/norm, label = 'Fe')\n",
    "\n",
    "plt.axhline((1-((t.max()-t.min())/2/t.max()))*moss.non_resonant_attenuation())\n",
    "plt.axvline(-(source.Gamma + absorber.Gamma)/2)\n",
    "plt.axvline((source.Gamma + absorber.Gamma)/2)\n",
    "\n",
    "plt.axhline((1 - source.fs)*moss.non_resonant_attenuation(),color = 'r')\n",
    "plt.axhline((1 - source.fs*moss.epsilon(absorber.thickness_normalized))*moss.non_resonant_attenuation(),color = 'g')\n",
    "\n",
    "\n",
    "\n",
    "plt.ylim(0,1)\n",
    "plt.xlim(-1,1)\n",
    "\n",
    "\n",
    "vis = moss.epsilon(absorber.thickness_normalized)*source.fs\n",
    "vis, (t.max()-t.min())/t.max(), source.mossbauer_photon_rate/1e6, moss.non_resonant_attenuation()"
   ]
  },
  {
   "cell_type": "code",
   "execution_count": 140,
   "id": "93e9e666",
   "metadata": {},
   "outputs": [
    {
     "data": {
      "text/plain": [
       "(0.5739812057385447,\n",
       " 0.4870010405849185,\n",
       " 151.6578870368754,\n",
       " 0.28477637176683074)"
      ]
     },
     "execution_count": 140,
     "metadata": {},
     "output_type": "execute_result"
    },
    {
     "data": {
      "image/png": "[encoded data removed]",
      "text/plain": [
       "<Figure size 432x288 with 1 Axes>"
      ]
     },
     "metadata": {
      "needs_background": "light"
     },
     "output_type": "display_data"
    }
   ],
   "source": [
    "source = CobaltRhodium()\n",
    "source.update_params()\n",
    "absorber = alphaFe()\n",
    "absorber.thickness_m = 25e-6\n",
    "absorber.abundance = 0.0212\n",
    "absorber.update_params()\n",
    "\n",
    "moss = Mossbauer(source, absorber)\n",
    "\n",
    "\n",
    "v = np.linspace(-10,10,1000)\n",
    "t = moss.total_transmission_rate1(v)\n",
    "norm = moss.source.mossbauer_photon_rate\n",
    "\n",
    "\n",
    "plt.plot(v, t/norm, label = 'Fe')\n",
    "\n",
    "plt.axhline((1-((t.max()-t.min())/2/t.max()))*moss.non_resonant_attenuation())\n",
    "plt.axvline(-(source.Gamma + absorber.Gamma)/2)\n",
    "plt.axvline((source.Gamma + absorber.Gamma)/2)\n",
    "\n",
    "plt.axhline((1 - source.fs)*moss.non_resonant_attenuation(),color = 'r')\n",
    "plt.axhline((1 - source.fs*moss.epsilon(absorber.thickness_normalized))*moss.non_resonant_attenuation(),color = 'g')\n",
    "\n",
    "\n",
    "\n",
    "plt.ylim(0,1)\n",
    "plt.xlim(-8,8)\n",
    "\n",
    "\n",
    "vis = moss.epsilon(absorber.thickness_normalized*3/12)\n",
    "vis, (t.max()-t.min())/t.max(), source.mossbauer_photon_rate/1e6, moss.non_resonant_attenuation()"
   ]
  },
  {
   "cell_type": "code",
   "execution_count": 142,
   "id": "7a202614",
   "metadata": {},
   "outputs": [
    {
     "data": {
      "text/plain": [
       "(0.6200655748807714,\n",
       " 0.6180967411233927,\n",
       " 151.65776307764764,\n",
       " 0.9850404104576503)"
      ]
     },
     "execution_count": 142,
     "metadata": {},
     "output_type": "execute_result"
    },
    {
     "data": {
      "image/png": "[encoded data removed]",
      "text/plain": [
       "<Figure size 432x288 with 1 Axes>"
      ]
     },
     "metadata": {
      "needs_background": "light"
     },
     "output_type": "display_data"
    }
   ],
   "source": [
    "source = CobaltRhodium()\n",
    "source.update_params()\n",
    "absorber = alphaFe()\n",
    "absorber.thickness_m = 300e-9\n",
    "absorber.Eres = [0]\n",
    "absorber.split_ratio = [1]\n",
    "absorber.abundance = 0.95\n",
    "absorber.update_params()\n",
    "\n",
    "moss = Mossbauer(source, absorber)\n",
    "\n",
    "v = np.linspace(-10,10,1000)\n",
    "t = moss.total_transmission_rate1(v)\n",
    "norm = moss.source.mossbauer_photon_rate\n",
    "\n",
    "\n",
    "plt.plot(v, t/norm, label = 'Fe')\n",
    "\n",
    "plt.axhline((1-((t.max()-t.min())/2/t.max()))*moss.non_resonant_attenuation())\n",
    "plt.axvline(-(source.Gamma + absorber.Gamma)/2)\n",
    "plt.axvline((source.Gamma + absorber.Gamma)/2)\n",
    "\n",
    "plt.axhline((1 - source.fs)*moss.non_resonant_attenuation(),color = 'r')\n",
    "plt.axhline((1 - source.fs*moss.epsilon(absorber.thickness_normalized))*moss.non_resonant_attenuation(),color = 'g')\n",
    "\n",
    "\n",
    "plt.ylim(0,1)\n",
    "plt.xlim(-1,1)\n",
    "\n",
    "\n",
    "vis = moss.epsilon(absorber.thickness_normalized)*source.fs\n",
    "vis, (t.max()-t.min())/t.max(), source.mossbauer_photon_rate/1e6,moss.non_resonant_attenuation()"
   ]
  },
  {
   "cell_type": "code",
   "execution_count": 151,
   "id": "14ddb602",
   "metadata": {},
   "outputs": [
    {
     "data": {
      "text/plain": [
       "(0.7596187789796558,\n",
       " 0.6581370577361476,\n",
       " 151.65680520778884,\n",
       " 0.8600832190640934)"
      ]
     },
     "execution_count": 151,
     "metadata": {},
     "output_type": "execute_result"
    },
    {
     "data": {
      "image/png": "[encoded data removed]",
      "text/plain": [
       "<Figure size 432x288 with 1 Axes>"
      ]
     },
     "metadata": {
      "needs_background": "light"
     },
     "output_type": "display_data"
    }
   ],
   "source": [
    "source = CobaltFe()\n",
    "source.update_params()\n",
    "absorber = alphaFe()\n",
    "absorber.thickness_m = 3000e-9\n",
    "absorber.abundance = 0.95\n",
    "absorber.update_params()\n",
    "\n",
    "moss = Mossbauer(source, absorber)\n",
    "\n",
    "v = np.linspace(-10,10,1000)\n",
    "t = moss.total_transmission_rate1(v)\n",
    "norm = moss.source.mossbauer_photon_rate\n",
    "\n",
    "\n",
    "plt.plot(v, t/norm, label = 'Fe')\n",
    "\n",
    "plt.axhline((1-((t.max()-t.min())/2/t.max()))*moss.non_resonant_attenuation())\n",
    "plt.axvline(-(source.Gamma + absorber.Gamma)/2)\n",
    "plt.axvline((source.Gamma + absorber.Gamma)/2)\n",
    "\n",
    "plt.axhline((1 - source.fs)*moss.non_resonant_attenuation(),color = 'r')\n",
    "plt.axhline((1 - source.fs*moss.epsilon(absorber.thickness_normalized))*moss.non_resonant_attenuation(),color = 'g')\n",
    "\n",
    "\n",
    "plt.ylim(0,1)\n",
    "plt.xlim(-3,3)\n",
    "\n",
    "\n",
    "vis = moss.epsilon(absorber.thickness_normalized)*source.fs\n",
    "vis, (t.max()-t.min())/t.max(), source.mossbauer_photon_rate/1e6,moss.non_resonant_attenuation()"
   ]
  },
  {
   "cell_type": "code",
   "execution_count": 152,
   "id": "5b6773f4",
   "metadata": {},
   "outputs": [
    {
     "data": {
      "text/plain": [
       "(0.0, 1.0)"
      ]
     },
     "execution_count": 152,
     "metadata": {},
     "output_type": "execute_result"
    },
    {
     "data": {
      "image/png": "[encoded data removed]",
      "text/plain": [
       "<Figure size 432x288 with 1 Axes>"
      ]
     },
     "metadata": {
      "needs_background": "light"
     },
     "output_type": "display_data"
    }
   ],
   "source": [
    "\n",
    "v = np.linspace(-10,10,1000)    \n",
    "\n",
    "\n",
    "source = CobaltFe ()\n",
    "source.update_params()\n",
    "absorber = alphaFe()\n",
    "absorber.thickness_m = 3000e-9\n",
    "absorber.abundance = 1\n",
    "absorber.update_params()\n",
    "\n",
    "moss_Fe_Fe = Mossbauer(source, absorber)\n",
    "\n",
    "source = CobaltRhodium()\n",
    "source.update_params()\n",
    "absorber = alphaFe()\n",
    "absorber.thickness_m = 3000e-9\n",
    "absorber.abundance = 1\n",
    "absorber.update_params()\n",
    "\n",
    "moss_Rh_Fe = Mossbauer(source, absorber)\n",
    "norm = moss.source.mossbauer_photon_rate\n",
    "\n",
    "plt.plot(v, moss_Fe_Fe.total_transmission_rate1(v)/norm, label = 'Fe')\n",
    "plt.plot(v, moss_Rh_Fe.total_transmission_rate1(v)/norm, label = 'Rh')\n",
    "\n",
    "plt.ylim(0,1)"
   ]
  },
  {
   "cell_type": "code",
   "execution_count": 132,
   "id": "f2402597",
   "metadata": {},
   "outputs": [
    {
     "data": {
      "text/plain": [
       "0.36787944117144233"
      ]
     },
     "execution_count": 132,
     "metadata": {},
     "output_type": "execute_result"
    }
   ],
   "source": [
    "1/np.exp(1)"
   ]
  },
  {
   "cell_type": "code",
   "execution_count": null,
   "id": "dd55bb21",
   "metadata": {},
   "outputs": [],
   "source": [
    "# Scipy integration\n",
    "\n",
    "from scipy.integrate import quad\n",
    "def integrand(x, a, b):\n",
    "    return a*x**2 + b\n",
    "a = 2\n",
    "b = 1\n",
    "I = quad(integrand, 0, 1, args=(a,b))\n",
    "I"
   ]
  },
  {
   "cell_type": "code",
   "execution_count": null,
   "id": "3c75c70b",
   "metadata": {},
   "outputs": [],
   "source": [
    "# Fractional Absorption vs mean-free-paths\n",
    "\n",
    "t_mfp = np.linspace(0,8,100)\n",
    "#epsilon = 1-np.exp(-t/2)*jv(0,1j*t/2).real\n",
    "plt.plot(t_mfp,1-np.exp(-t_mfp/2))\n",
    "plt.plot(t_mfp,t_mfp/2)\n",
    "plt.plot(t_mfp,epsilon(t_mfp))\n",
    "plt.ylim(0,1)"
   ]
  }
 ],
 "metadata": {
  "kernelspec": {
   "display_name": "base",
   "language": "python",
   "name": "python3"
  },
  "language_info": {
   "codemirror_mode": {
    "name": "ipython",
    "version": 3
   },
   "file_extension": ".py",
   "mimetype": "text/x-python",
   "name": "python",
   "nbconvert_exporter": "python",
   "pygments_lexer": "ipython3",
   "version": "3.9.13"
  }
 },
 "nbformat": 4,
 "nbformat_minor": 5
}
